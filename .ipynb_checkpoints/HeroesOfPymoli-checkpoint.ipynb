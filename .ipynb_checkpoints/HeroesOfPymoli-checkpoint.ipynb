{
 "cells": [
  {
   "cell_type": "markdown",
   "metadata": {},
   "source": [
    "### Note\n",
    "* Instructions have been included for each segment. You do not have to follow them exactly, but they are included to help you think through the steps."
   ]
  },
  {
   "cell_type": "code",
   "execution_count": 1,
   "metadata": {},
   "outputs": [],
   "source": [
    "# Dependencies and Setup\n",
    "import pandas as pd\n",
    "\n",
    "# File to Load (Remember to Change These)\n",
    "file_to_load = \"Resources/purchase_data.csv\"\n",
    "\n",
    "# Read Purchasing File and store into Pandas data frame\n",
    "purchase_data = pd.read_csv(file_to_load)"
   ]
  },
  {
   "cell_type": "markdown",
   "metadata": {},
   "source": [
    "## Player Count"
   ]
  },
  {
   "cell_type": "markdown",
   "metadata": {},
   "source": [
    "* Display the total number of players\n"
   ]
  },
  {
   "cell_type": "code",
   "execution_count": 2,
   "metadata": {},
   "outputs": [
    {
     "data": {
      "text/html": [
       "<div>\n",
       "<style scoped>\n",
       "    .dataframe tbody tr th:only-of-type {\n",
       "        vertical-align: middle;\n",
       "    }\n",
       "\n",
       "    .dataframe tbody tr th {\n",
       "        vertical-align: top;\n",
       "    }\n",
       "\n",
       "    .dataframe thead th {\n",
       "        text-align: right;\n",
       "    }\n",
       "</style>\n",
       "<table border=\"1\" class=\"dataframe\">\n",
       "  <thead>\n",
       "    <tr style=\"text-align: right;\">\n",
       "      <th></th>\n",
       "      <th>Total Players</th>\n",
       "    </tr>\n",
       "  </thead>\n",
       "  <tbody>\n",
       "    <tr>\n",
       "      <th>0</th>\n",
       "      <td>576</td>\n",
       "    </tr>\n",
       "  </tbody>\n",
       "</table>\n",
       "</div>"
      ],
      "text/plain": [
       "   Total Players\n",
       "0            576"
      ]
     },
     "execution_count": 2,
     "metadata": {},
     "output_type": "execute_result"
    }
   ],
   "source": [
    "#Calculations for the total number of players\n",
    "total_players = purchase_data['SN'].nunique()\n",
    "total_players_df = pd.DataFrame({\"Total Players\":[total_players]})\n",
    "total_players_df"
   ]
  },
  {
   "cell_type": "markdown",
   "metadata": {},
   "source": [
    "## Purchasing Analysis (Total)"
   ]
  },
  {
   "cell_type": "markdown",
   "metadata": {},
   "source": [
    "* Run basic calculations to obtain number of unique items, average price, etc.\n",
    "\n",
    "\n",
    "* Create a summary data frame to hold the results\n",
    "\n",
    "\n",
    "* Optional: give the displayed data cleaner formatting\n",
    "\n",
    "\n",
    "* Display the summary data frame\n"
   ]
  },
  {
   "cell_type": "code",
   "execution_count": 3,
   "metadata": {
    "scrolled": true
   },
   "outputs": [
    {
     "data": {
      "text/html": [
       "<div>\n",
       "<style scoped>\n",
       "    .dataframe tbody tr th:only-of-type {\n",
       "        vertical-align: middle;\n",
       "    }\n",
       "\n",
       "    .dataframe tbody tr th {\n",
       "        vertical-align: top;\n",
       "    }\n",
       "\n",
       "    .dataframe thead th {\n",
       "        text-align: right;\n",
       "    }\n",
       "</style>\n",
       "<table border=\"1\" class=\"dataframe\">\n",
       "  <thead>\n",
       "    <tr style=\"text-align: right;\">\n",
       "      <th></th>\n",
       "      <th>Number of Unique Items</th>\n",
       "      <th>Average Price</th>\n",
       "      <th>Number of Purchases</th>\n",
       "      <th>Total Revenue</th>\n",
       "    </tr>\n",
       "  </thead>\n",
       "  <tbody>\n",
       "    <tr>\n",
       "      <th>0</th>\n",
       "      <td>179</td>\n",
       "      <td>$3.05</td>\n",
       "      <td>780</td>\n",
       "      <td>$2,379.77</td>\n",
       "    </tr>\n",
       "  </tbody>\n",
       "</table>\n",
       "</div>"
      ],
      "text/plain": [
       "   Number of Unique Items Average Price  Number of Purchases Total Revenue\n",
       "0                     179         $3.05                  780     $2,379.77"
      ]
     },
     "execution_count": 3,
     "metadata": {},
     "output_type": "execute_result"
    }
   ],
   "source": [
    "#Number of Unique Items\n",
    "unique_items = purchase_data['Item Name'].nunique()\n",
    "\n",
    "#Get Avg Price\n",
    "average_price = round(purchase_data['Price'].mean(), 2)\n",
    "avg_price_dollar = f'${average_price}'\n",
    "\n",
    "#Calculate the total count\n",
    "total_count = purchase_data['Price'].count()\n",
    "total_revenue = '{0:,.2f}'.format(sum(purchase_data['Price']))\n",
    "total_revenue_dollar = f'${total_revenue}'\n",
    "\n",
    "#Make a dataframe of all the above values\n",
    "revenue_summary_df = pd.DataFrame({\"Number of Unique Items\":[unique_items], \"Average Price\":[avg_price_dollar],\n",
    "                          \"Number of Purchases\":[total_count], \"Total Revenue\":[total_revenue_dollar]})\n",
    "revenue_summary_df"
   ]
  },
  {
   "cell_type": "markdown",
   "metadata": {},
   "source": [
    "## Gender Demographics"
   ]
  },
  {
   "cell_type": "markdown",
   "metadata": {},
   "source": [
    "* Percentage and Count of Male Players\n",
    "\n",
    "\n",
    "* Percentage and Count of Female Players\n",
    "\n",
    "\n",
    "* Percentage and Count of Other / Non-Disclosed\n"
   ]
  },
  {
   "cell_type": "code",
   "execution_count": 9,
   "metadata": {},
   "outputs": [
    {
     "data": {
      "text/html": [
       "<style  type=\"text/css\" >\n",
       "</style><table id=\"T_a26a8f1c_2e82_11ea_9408_00249b2cceca\" ><thead>    <tr>        <th class=\"blank level0\" ></th>        <th class=\"col_heading level0 col0\" >Gender</th>        <th class=\"col_heading level0 col1\" >Total Count</th>        <th class=\"col_heading level0 col2\" >Percentage of Players</th>    </tr></thead><tbody>\n",
       "                <tr>\n",
       "                        <th id=\"T_a26a8f1c_2e82_11ea_9408_00249b2ccecalevel0_row0\" class=\"row_heading level0 row0\" >0</th>\n",
       "                        <td id=\"T_a26a8f1c_2e82_11ea_9408_00249b2ccecarow0_col0\" class=\"data row0 col0\" >Female</td>\n",
       "                        <td id=\"T_a26a8f1c_2e82_11ea_9408_00249b2ccecarow0_col1\" class=\"data row0 col1\" >81</td>\n",
       "                        <td id=\"T_a26a8f1c_2e82_11ea_9408_00249b2ccecarow0_col2\" class=\"data row0 col2\" >14.06%</td>\n",
       "            </tr>\n",
       "            <tr>\n",
       "                        <th id=\"T_a26a8f1c_2e82_11ea_9408_00249b2ccecalevel0_row1\" class=\"row_heading level0 row1\" >1</th>\n",
       "                        <td id=\"T_a26a8f1c_2e82_11ea_9408_00249b2ccecarow1_col0\" class=\"data row1 col0\" >Male</td>\n",
       "                        <td id=\"T_a26a8f1c_2e82_11ea_9408_00249b2ccecarow1_col1\" class=\"data row1 col1\" >484</td>\n",
       "                        <td id=\"T_a26a8f1c_2e82_11ea_9408_00249b2ccecarow1_col2\" class=\"data row1 col2\" >84.03%</td>\n",
       "            </tr>\n",
       "            <tr>\n",
       "                        <th id=\"T_a26a8f1c_2e82_11ea_9408_00249b2ccecalevel0_row2\" class=\"row_heading level0 row2\" >2</th>\n",
       "                        <td id=\"T_a26a8f1c_2e82_11ea_9408_00249b2ccecarow2_col0\" class=\"data row2 col0\" >Other / Non-Disclosed</td>\n",
       "                        <td id=\"T_a26a8f1c_2e82_11ea_9408_00249b2ccecarow2_col1\" class=\"data row2 col1\" >11</td>\n",
       "                        <td id=\"T_a26a8f1c_2e82_11ea_9408_00249b2ccecarow2_col2\" class=\"data row2 col2\" >1.91%</td>\n",
       "            </tr>\n",
       "    </tbody></table>"
      ],
      "text/plain": [
       "<pandas.io.formats.style.Styler at 0x115921150>"
      ]
     },
     "execution_count": 9,
     "metadata": {},
     "output_type": "execute_result"
    }
   ],
   "source": [
    "#Get the unique gender counts and make a dataframe\n",
    "dc = purchase_data.groupby(['Gender'])['SN'].unique()\n",
    "demographic_df = dc.reset_index(name='Unique Values')\n",
    "\n",
    "demographic_count = demographic_df['Unique Values'].str.len()\n",
    "demographic_df[\"Total Count\"] = demographic_count\n",
    "\n",
    "#Calculate the percentage of players by gender\n",
    "demographic_percent = round((demographic_df['Total Count']/total_players)*100, 2)\n",
    "demographic_df[\"Percentage of Players\"] = demographic_percent\n",
    "demographic_df = demographic_df.drop('Unique Values', axis=1)\n",
    "\n",
    "#Styple it and display the dataframe\n",
    "demographic_clean_df = demographic_df.style.format({'Percentage of Players':'{:.2f}%'})\n",
    "demographic_clean_df"
   ]
  },
  {
   "cell_type": "markdown",
   "metadata": {},
   "source": [
    "\n",
    "## Purchasing Analysis (Gender)"
   ]
  },
  {
   "cell_type": "markdown",
   "metadata": {},
   "source": [
    "* Run basic calculations to obtain purchase count, avg. purchase price, avg. purchase total per person etc. by gender\n",
    "\n",
    "\n",
    "\n",
    "\n",
    "* Create a summary data frame to hold the results\n",
    "\n",
    "\n",
    "* Optional: give the displayed data cleaner formatting\n",
    "\n",
    "\n",
    "* Display the summary data frame"
   ]
  },
  {
   "cell_type": "code",
   "execution_count": 10,
   "metadata": {},
   "outputs": [
    {
     "data": {
      "text/html": [
       "<style  type=\"text/css\" >\n",
       "</style><table id=\"T_a3ce0b72_2e82_11ea_9408_00249b2cceca\" ><thead>    <tr>        <th class=\"blank level0\" ></th>        <th class=\"col_heading level0 col0\" >Gender</th>        <th class=\"col_heading level0 col1\" >Purchase Count</th>        <th class=\"col_heading level0 col2\" >Average Purchase Price</th>        <th class=\"col_heading level0 col3\" >Total Purchase Value</th>        <th class=\"col_heading level0 col4\" >Avg Total Purchase per Person</th>    </tr></thead><tbody>\n",
       "                <tr>\n",
       "                        <th id=\"T_a3ce0b72_2e82_11ea_9408_00249b2ccecalevel0_row0\" class=\"row_heading level0 row0\" >0</th>\n",
       "                        <td id=\"T_a3ce0b72_2e82_11ea_9408_00249b2ccecarow0_col0\" class=\"data row0 col0\" >Female</td>\n",
       "                        <td id=\"T_a3ce0b72_2e82_11ea_9408_00249b2ccecarow0_col1\" class=\"data row0 col1\" >113</td>\n",
       "                        <td id=\"T_a3ce0b72_2e82_11ea_9408_00249b2ccecarow0_col2\" class=\"data row0 col2\" >$3.20</td>\n",
       "                        <td id=\"T_a3ce0b72_2e82_11ea_9408_00249b2ccecarow0_col3\" class=\"data row0 col3\" >$361.94</td>\n",
       "                        <td id=\"T_a3ce0b72_2e82_11ea_9408_00249b2ccecarow0_col4\" class=\"data row0 col4\" >$4.47</td>\n",
       "            </tr>\n",
       "            <tr>\n",
       "                        <th id=\"T_a3ce0b72_2e82_11ea_9408_00249b2ccecalevel0_row1\" class=\"row_heading level0 row1\" >1</th>\n",
       "                        <td id=\"T_a3ce0b72_2e82_11ea_9408_00249b2ccecarow1_col0\" class=\"data row1 col0\" >Male</td>\n",
       "                        <td id=\"T_a3ce0b72_2e82_11ea_9408_00249b2ccecarow1_col1\" class=\"data row1 col1\" >652</td>\n",
       "                        <td id=\"T_a3ce0b72_2e82_11ea_9408_00249b2ccecarow1_col2\" class=\"data row1 col2\" >$3.02</td>\n",
       "                        <td id=\"T_a3ce0b72_2e82_11ea_9408_00249b2ccecarow1_col3\" class=\"data row1 col3\" >$1967.64</td>\n",
       "                        <td id=\"T_a3ce0b72_2e82_11ea_9408_00249b2ccecarow1_col4\" class=\"data row1 col4\" >$4.07</td>\n",
       "            </tr>\n",
       "            <tr>\n",
       "                        <th id=\"T_a3ce0b72_2e82_11ea_9408_00249b2ccecalevel0_row2\" class=\"row_heading level0 row2\" >2</th>\n",
       "                        <td id=\"T_a3ce0b72_2e82_11ea_9408_00249b2ccecarow2_col0\" class=\"data row2 col0\" >Other / Non-Disclosed</td>\n",
       "                        <td id=\"T_a3ce0b72_2e82_11ea_9408_00249b2ccecarow2_col1\" class=\"data row2 col1\" >15</td>\n",
       "                        <td id=\"T_a3ce0b72_2e82_11ea_9408_00249b2ccecarow2_col2\" class=\"data row2 col2\" >$3.35</td>\n",
       "                        <td id=\"T_a3ce0b72_2e82_11ea_9408_00249b2ccecarow2_col3\" class=\"data row2 col3\" >$50.19</td>\n",
       "                        <td id=\"T_a3ce0b72_2e82_11ea_9408_00249b2ccecarow2_col4\" class=\"data row2 col4\" >$4.56</td>\n",
       "            </tr>\n",
       "    </tbody></table>"
      ],
      "text/plain": [
       "<pandas.io.formats.style.Styler at 0x114c29fd0>"
      ]
     },
     "execution_count": 10,
     "metadata": {},
     "output_type": "execute_result"
    }
   ],
   "source": [
    "#Get a group by on gender and get the count, mean and sum based on the price\n",
    "demographic_groupby = purchase_data.groupby([\"Gender\"])\n",
    "\n",
    "demographic_groupby_count = demographic_groupby['Price'].count()\n",
    "demographic_groupby_price = round(demographic_groupby['Price'].mean(), 2)\n",
    "demographic_groupby_total = demographic_groupby['Price'].sum()\n",
    "\n",
    "#Merge the calculations made above based on gender. \n",
    "demographic_merge = pd.merge(demographic_groupby_count, demographic_groupby_price, on=\"Gender\")\n",
    "demographic_merge = pd.merge(demographic_merge, demographic_groupby_total, on=\"Gender\")\n",
    "demographic_merge = pd.merge(demographic_df, demographic_merge, on=\"Gender\")\n",
    "\n",
    "#Rename the columns appropriately\n",
    "demographic_merge = demographic_merge.rename(columns={\"Price_x\":\"Purchase Count\",\n",
    "                                                      \"Price_y\":\"Average Purchase Price\", \n",
    "                                                      \"Price\":\"Total Purchase Value\"})\n",
    "\n",
    "#Calculate the average total purchase per person\n",
    "demographic_merge[\"Avg Total Purchase per Person\"] = round(demographic_merge[\"Total Purchase Value\"]/demographic_merge[\"Total Count\"], 2)\n",
    "\n",
    "#Format the dataframe according to the requirements and display\n",
    "demographic_merge = demographic_merge.drop(['Total Count', 'Percentage of Players'], axis=1)\n",
    "demographic_merge = demographic_merge.style.format({'Average Purchase Price':'${:.2f}',\n",
    "                                                    'Total Purchase Value':'${:.2f}',\n",
    "                                                    'Avg Total Purchase per Person':'${:.2f}'})\n",
    "demographic_merge"
   ]
  },
  {
   "cell_type": "markdown",
   "metadata": {},
   "source": [
    "## Age Demographics"
   ]
  },
  {
   "cell_type": "markdown",
   "metadata": {},
   "source": [
    "* Establish bins for ages\n",
    "\n",
    "\n",
    "* Categorize the existing players using the age bins. Hint: use pd.cut()\n",
    "\n",
    "\n",
    "* Calculate the numbers and percentages by age group\n",
    "\n",
    "\n",
    "* Create a summary data frame to hold the results\n",
    "\n",
    "\n",
    "* Optional: round the percentage column to two decimal points\n",
    "\n",
    "\n",
    "* Display Age Demographics Table\n"
   ]
  },
  {
   "cell_type": "code",
   "execution_count": 13,
   "metadata": {},
   "outputs": [
    {
     "data": {
      "text/html": [
       "<style  type=\"text/css\" >\n",
       "</style><table id=\"T_9b5c7fb2_2e84_11ea_9408_00249b2cceca\" ><thead>    <tr>        <th class=\"blank level0\" ></th>        <th class=\"col_heading level0 col0\" >Total Count</th>        <th class=\"col_heading level0 col1\" >Percentage of Players</th>    </tr>    <tr>        <th class=\"index_name level0\" >Age Summary</th>        <th class=\"blank\" ></th>        <th class=\"blank\" ></th>    </tr></thead><tbody>\n",
       "                <tr>\n",
       "                        <th id=\"T_9b5c7fb2_2e84_11ea_9408_00249b2ccecalevel0_row0\" class=\"row_heading level0 row0\" ><10</th>\n",
       "                        <td id=\"T_9b5c7fb2_2e84_11ea_9408_00249b2ccecarow0_col0\" class=\"data row0 col0\" >24</td>\n",
       "                        <td id=\"T_9b5c7fb2_2e84_11ea_9408_00249b2ccecarow0_col1\" class=\"data row0 col1\" >3.08%</td>\n",
       "            </tr>\n",
       "            <tr>\n",
       "                        <th id=\"T_9b5c7fb2_2e84_11ea_9408_00249b2ccecalevel0_row1\" class=\"row_heading level0 row1\" >10-14</th>\n",
       "                        <td id=\"T_9b5c7fb2_2e84_11ea_9408_00249b2ccecarow1_col0\" class=\"data row1 col0\" >41</td>\n",
       "                        <td id=\"T_9b5c7fb2_2e84_11ea_9408_00249b2ccecarow1_col1\" class=\"data row1 col1\" >5.26%</td>\n",
       "            </tr>\n",
       "            <tr>\n",
       "                        <th id=\"T_9b5c7fb2_2e84_11ea_9408_00249b2ccecalevel0_row2\" class=\"row_heading level0 row2\" >15-19</th>\n",
       "                        <td id=\"T_9b5c7fb2_2e84_11ea_9408_00249b2ccecarow2_col0\" class=\"data row2 col0\" >150</td>\n",
       "                        <td id=\"T_9b5c7fb2_2e84_11ea_9408_00249b2ccecarow2_col1\" class=\"data row2 col1\" >19.23%</td>\n",
       "            </tr>\n",
       "            <tr>\n",
       "                        <th id=\"T_9b5c7fb2_2e84_11ea_9408_00249b2ccecalevel0_row3\" class=\"row_heading level0 row3\" >20-24</th>\n",
       "                        <td id=\"T_9b5c7fb2_2e84_11ea_9408_00249b2ccecarow3_col0\" class=\"data row3 col0\" >232</td>\n",
       "                        <td id=\"T_9b5c7fb2_2e84_11ea_9408_00249b2ccecarow3_col1\" class=\"data row3 col1\" >29.74%</td>\n",
       "            </tr>\n",
       "            <tr>\n",
       "                        <th id=\"T_9b5c7fb2_2e84_11ea_9408_00249b2ccecalevel0_row4\" class=\"row_heading level0 row4\" >25-29</th>\n",
       "                        <td id=\"T_9b5c7fb2_2e84_11ea_9408_00249b2ccecarow4_col0\" class=\"data row4 col0\" >59</td>\n",
       "                        <td id=\"T_9b5c7fb2_2e84_11ea_9408_00249b2ccecarow4_col1\" class=\"data row4 col1\" >7.56%</td>\n",
       "            </tr>\n",
       "            <tr>\n",
       "                        <th id=\"T_9b5c7fb2_2e84_11ea_9408_00249b2ccecalevel0_row5\" class=\"row_heading level0 row5\" >30-34</th>\n",
       "                        <td id=\"T_9b5c7fb2_2e84_11ea_9408_00249b2ccecarow5_col0\" class=\"data row5 col0\" >37</td>\n",
       "                        <td id=\"T_9b5c7fb2_2e84_11ea_9408_00249b2ccecarow5_col1\" class=\"data row5 col1\" >4.74%</td>\n",
       "            </tr>\n",
       "            <tr>\n",
       "                        <th id=\"T_9b5c7fb2_2e84_11ea_9408_00249b2ccecalevel0_row6\" class=\"row_heading level0 row6\" >35-39</th>\n",
       "                        <td id=\"T_9b5c7fb2_2e84_11ea_9408_00249b2ccecarow6_col0\" class=\"data row6 col0\" >26</td>\n",
       "                        <td id=\"T_9b5c7fb2_2e84_11ea_9408_00249b2ccecarow6_col1\" class=\"data row6 col1\" >3.33%</td>\n",
       "            </tr>\n",
       "            <tr>\n",
       "                        <th id=\"T_9b5c7fb2_2e84_11ea_9408_00249b2ccecalevel0_row7\" class=\"row_heading level0 row7\" >40+</th>\n",
       "                        <td id=\"T_9b5c7fb2_2e84_11ea_9408_00249b2ccecarow7_col0\" class=\"data row7 col0\" >7</td>\n",
       "                        <td id=\"T_9b5c7fb2_2e84_11ea_9408_00249b2ccecarow7_col1\" class=\"data row7 col1\" >0.90%</td>\n",
       "            </tr>\n",
       "    </tbody></table>"
      ],
      "text/plain": [
       "<pandas.io.formats.style.Styler at 0x1163d3090>"
      ]
     },
     "execution_count": 13,
     "metadata": {},
     "output_type": "execute_result"
    }
   ],
   "source": [
    "#The needed bins and their respective labels\n",
    "bins = [0, 10, 15, 20, 25, 30, 35, 40, 100]\n",
    "group_names = [\"<10\", \"10-14\", \"15-19\", \"20-24\", \"25-29\", \"30-34\", \"35-39\", \"40+\"]\n",
    "\n",
    "#Adding the new column to the original content\n",
    "purchase_data[\"Age Summary\"] = pd.cut(purchase_data[\"Age\"], bins, labels=group_names)\n",
    "\n",
    "#Get a group by based on the new field, SN and make a new dataframe out of it \n",
    "age_summary_count = purchase_data.groupby('Age Summary')['SN'].nunique()\n",
    "\n",
    "age_summary_df = pd.DataFrame(age_summary_count)\n",
    "age_summary_df = age_summary_df.rename(columns={\"SN\":\"Total Count\"})\n",
    "\n",
    "#calculate the percentage of players in each bin\n",
    "age_summary_percent = round((age_summary_df['Total Count']/total_count)*100, 2)\n",
    "age_summary_df[\"Percentage of Players\"] = age_summary_percent\n",
    "\n",
    "#format it and print\n",
    "age_summary_clean_df = age_summary_df.style.format({'Percentage of Players':'{:.2f}%'})\n",
    "age_summary_clean_df"
   ]
  },
  {
   "cell_type": "markdown",
   "metadata": {},
   "source": [
    "## Purchasing Analysis (Age)"
   ]
  },
  {
   "cell_type": "markdown",
   "metadata": {},
   "source": [
    "* Bin the purchase_data data frame by age\n",
    "\n",
    "\n",
    "* Run basic calculations to obtain purchase count, avg. purchase price, avg. purchase total per person etc. in the table below\n",
    "\n",
    "\n",
    "* Create a summary data frame to hold the results\n",
    "\n",
    "\n",
    "* Optional: give the displayed data cleaner formatting\n",
    "\n",
    "\n",
    "* Display the summary data frame"
   ]
  },
  {
   "cell_type": "code",
   "execution_count": 14,
   "metadata": {},
   "outputs": [
    {
     "data": {
      "text/html": [
       "<style  type=\"text/css\" >\n",
       "</style><table id=\"T_9cffc9be_2e84_11ea_9408_00249b2cceca\" ><thead>    <tr>        <th class=\"blank level0\" ></th>        <th class=\"col_heading level0 col0\" >Purchase Count</th>        <th class=\"col_heading level0 col1\" >Average Purchase Price</th>        <th class=\"col_heading level0 col2\" >Total Purchase Value</th>        <th class=\"col_heading level0 col3\" >Avg Total Purchase per Person</th>    </tr>    <tr>        <th class=\"index_name level0\" >Age Summary</th>        <th class=\"blank\" ></th>        <th class=\"blank\" ></th>        <th class=\"blank\" ></th>        <th class=\"blank\" ></th>    </tr></thead><tbody>\n",
       "                <tr>\n",
       "                        <th id=\"T_9cffc9be_2e84_11ea_9408_00249b2ccecalevel0_row0\" class=\"row_heading level0 row0\" ><10</th>\n",
       "                        <td id=\"T_9cffc9be_2e84_11ea_9408_00249b2ccecarow0_col0\" class=\"data row0 col0\" >32</td>\n",
       "                        <td id=\"T_9cffc9be_2e84_11ea_9408_00249b2ccecarow0_col1\" class=\"data row0 col1\" >$3.40</td>\n",
       "                        <td id=\"T_9cffc9be_2e84_11ea_9408_00249b2ccecarow0_col2\" class=\"data row0 col2\" >$108.96</td>\n",
       "                        <td id=\"T_9cffc9be_2e84_11ea_9408_00249b2ccecarow0_col3\" class=\"data row0 col3\" >$4.54</td>\n",
       "            </tr>\n",
       "            <tr>\n",
       "                        <th id=\"T_9cffc9be_2e84_11ea_9408_00249b2ccecalevel0_row1\" class=\"row_heading level0 row1\" >10-14</th>\n",
       "                        <td id=\"T_9cffc9be_2e84_11ea_9408_00249b2ccecarow1_col0\" class=\"data row1 col0\" >54</td>\n",
       "                        <td id=\"T_9cffc9be_2e84_11ea_9408_00249b2ccecarow1_col1\" class=\"data row1 col1\" >$2.90</td>\n",
       "                        <td id=\"T_9cffc9be_2e84_11ea_9408_00249b2ccecarow1_col2\" class=\"data row1 col2\" >$156.60</td>\n",
       "                        <td id=\"T_9cffc9be_2e84_11ea_9408_00249b2ccecarow1_col3\" class=\"data row1 col3\" >$3.82</td>\n",
       "            </tr>\n",
       "            <tr>\n",
       "                        <th id=\"T_9cffc9be_2e84_11ea_9408_00249b2ccecalevel0_row2\" class=\"row_heading level0 row2\" >15-19</th>\n",
       "                        <td id=\"T_9cffc9be_2e84_11ea_9408_00249b2ccecarow2_col0\" class=\"data row2 col0\" >200</td>\n",
       "                        <td id=\"T_9cffc9be_2e84_11ea_9408_00249b2ccecarow2_col1\" class=\"data row2 col1\" >$3.11</td>\n",
       "                        <td id=\"T_9cffc9be_2e84_11ea_9408_00249b2ccecarow2_col2\" class=\"data row2 col2\" >$621.56</td>\n",
       "                        <td id=\"T_9cffc9be_2e84_11ea_9408_00249b2ccecarow2_col3\" class=\"data row2 col3\" >$4.14</td>\n",
       "            </tr>\n",
       "            <tr>\n",
       "                        <th id=\"T_9cffc9be_2e84_11ea_9408_00249b2ccecalevel0_row3\" class=\"row_heading level0 row3\" >20-24</th>\n",
       "                        <td id=\"T_9cffc9be_2e84_11ea_9408_00249b2ccecarow3_col0\" class=\"data row3 col0\" >325</td>\n",
       "                        <td id=\"T_9cffc9be_2e84_11ea_9408_00249b2ccecarow3_col1\" class=\"data row3 col1\" >$3.02</td>\n",
       "                        <td id=\"T_9cffc9be_2e84_11ea_9408_00249b2ccecarow3_col2\" class=\"data row3 col2\" >$981.64</td>\n",
       "                        <td id=\"T_9cffc9be_2e84_11ea_9408_00249b2ccecarow3_col3\" class=\"data row3 col3\" >$4.23</td>\n",
       "            </tr>\n",
       "            <tr>\n",
       "                        <th id=\"T_9cffc9be_2e84_11ea_9408_00249b2ccecalevel0_row4\" class=\"row_heading level0 row4\" >25-29</th>\n",
       "                        <td id=\"T_9cffc9be_2e84_11ea_9408_00249b2ccecarow4_col0\" class=\"data row4 col0\" >77</td>\n",
       "                        <td id=\"T_9cffc9be_2e84_11ea_9408_00249b2ccecarow4_col1\" class=\"data row4 col1\" >$2.88</td>\n",
       "                        <td id=\"T_9cffc9be_2e84_11ea_9408_00249b2ccecarow4_col2\" class=\"data row4 col2\" >$221.42</td>\n",
       "                        <td id=\"T_9cffc9be_2e84_11ea_9408_00249b2ccecarow4_col3\" class=\"data row4 col3\" >$3.75</td>\n",
       "            </tr>\n",
       "            <tr>\n",
       "                        <th id=\"T_9cffc9be_2e84_11ea_9408_00249b2ccecalevel0_row5\" class=\"row_heading level0 row5\" >30-34</th>\n",
       "                        <td id=\"T_9cffc9be_2e84_11ea_9408_00249b2ccecarow5_col0\" class=\"data row5 col0\" >52</td>\n",
       "                        <td id=\"T_9cffc9be_2e84_11ea_9408_00249b2ccecarow5_col1\" class=\"data row5 col1\" >$2.99</td>\n",
       "                        <td id=\"T_9cffc9be_2e84_11ea_9408_00249b2ccecarow5_col2\" class=\"data row5 col2\" >$155.71</td>\n",
       "                        <td id=\"T_9cffc9be_2e84_11ea_9408_00249b2ccecarow5_col3\" class=\"data row5 col3\" >$4.21</td>\n",
       "            </tr>\n",
       "            <tr>\n",
       "                        <th id=\"T_9cffc9be_2e84_11ea_9408_00249b2ccecalevel0_row6\" class=\"row_heading level0 row6\" >35-39</th>\n",
       "                        <td id=\"T_9cffc9be_2e84_11ea_9408_00249b2ccecarow6_col0\" class=\"data row6 col0\" >33</td>\n",
       "                        <td id=\"T_9cffc9be_2e84_11ea_9408_00249b2ccecarow6_col1\" class=\"data row6 col1\" >$3.40</td>\n",
       "                        <td id=\"T_9cffc9be_2e84_11ea_9408_00249b2ccecarow6_col2\" class=\"data row6 col2\" >$112.35</td>\n",
       "                        <td id=\"T_9cffc9be_2e84_11ea_9408_00249b2ccecarow6_col3\" class=\"data row6 col3\" >$4.32</td>\n",
       "            </tr>\n",
       "            <tr>\n",
       "                        <th id=\"T_9cffc9be_2e84_11ea_9408_00249b2ccecalevel0_row7\" class=\"row_heading level0 row7\" >40+</th>\n",
       "                        <td id=\"T_9cffc9be_2e84_11ea_9408_00249b2ccecarow7_col0\" class=\"data row7 col0\" >7</td>\n",
       "                        <td id=\"T_9cffc9be_2e84_11ea_9408_00249b2ccecarow7_col1\" class=\"data row7 col1\" >$3.08</td>\n",
       "                        <td id=\"T_9cffc9be_2e84_11ea_9408_00249b2ccecarow7_col2\" class=\"data row7 col2\" >$21.53</td>\n",
       "                        <td id=\"T_9cffc9be_2e84_11ea_9408_00249b2ccecarow7_col3\" class=\"data row7 col3\" >$3.08</td>\n",
       "            </tr>\n",
       "    </tbody></table>"
      ],
      "text/plain": [
       "<pandas.io.formats.style.Styler at 0x116457150>"
      ]
     },
     "execution_count": 14,
     "metadata": {},
     "output_type": "execute_result"
    }
   ],
   "source": [
    "#Get a group by on Age Summary and get the count, mean and sum based on the price\n",
    "purchasebyage_groupby = purchase_data.groupby([\"Age Summary\"])\n",
    "\n",
    "purchasebyage_groupby_count = purchasebyage_groupby['Price'].count()\n",
    "purchasebyage_groupby_price = round(purchasebyage_groupby['Price'].mean(), 2)\n",
    "purchasebyage_groupby_total = purchasebyage_groupby['Price'].sum()\n",
    "\n",
    "#Merge the calculations made above based on Age Summary. \n",
    "purchasebyage_merge = pd.merge(purchasebyage_groupby_count, purchasebyage_groupby_price, on=\"Age Summary\")\n",
    "purchasebyage_merge = pd.merge(purchasebyage_merge, purchasebyage_groupby_total, on=\"Age Summary\")\n",
    "purchasebyage_merge = pd.merge(age_summary_df, purchasebyage_merge, on=\"Age Summary\")\n",
    "\n",
    "#Rename the columns appropriately\n",
    "purchasebyage_merge = purchasebyage_merge.rename(columns={\"Price_x\":\"Purchase Count\",\n",
    "                                                      \"Price_y\":\"Average Purchase Price\", \n",
    "                                                      \"Price\":\"Total Purchase Value\"})\n",
    "\n",
    "#Calculate the average total purchase per person\n",
    "purchasebyage_merge[\"Avg Total Purchase per Person\"] = round(purchasebyage_merge[\"Total Purchase Value\"]/purchasebyage_merge[\"Total Count\"], 2)\n",
    "\n",
    "#Format the dataframe according to the requirements and display\n",
    "purchasebyage_merge = purchasebyage_merge.drop(['Total Count', 'Percentage of Players'], axis=1)\n",
    "purchasebyage_merge = purchasebyage_merge.style.format({'Average Purchase Price':'${:.2f}',\n",
    "                                                    'Total Purchase Value':'${:.2f}',\n",
    "                                                    'Avg Total Purchase per Person':'${:.2f}'})\n",
    "purchasebyage_merge"
   ]
  },
  {
   "cell_type": "markdown",
   "metadata": {},
   "source": [
    "## Top Spenders"
   ]
  },
  {
   "cell_type": "markdown",
   "metadata": {},
   "source": [
    "* Run basic calculations to obtain the results in the table below\n",
    "\n",
    "\n",
    "* Create a summary data frame to hold the results\n",
    "\n",
    "\n",
    "* Sort the total purchase value column in descending order\n",
    "\n",
    "\n",
    "* Optional: give the displayed data cleaner formatting\n",
    "\n",
    "\n",
    "* Display a preview of the summary data frame\n",
    "\n"
   ]
  },
  {
   "cell_type": "code",
   "execution_count": 17,
   "metadata": {},
   "outputs": [
    {
     "data": {
      "text/html": [
       "<style  type=\"text/css\" >\n",
       "</style><table id=\"T_c1d9d3f4_2e86_11ea_9408_00249b2cceca\" ><thead>    <tr>        <th class=\"blank level0\" ></th>        <th class=\"col_heading level0 col0\" >Purchase Count</th>        <th class=\"col_heading level0 col1\" >Average Purchase Price</th>        <th class=\"col_heading level0 col2\" >Total Purchase Value</th>    </tr>    <tr>        <th class=\"index_name level0\" >SN</th>        <th class=\"blank\" ></th>        <th class=\"blank\" ></th>        <th class=\"blank\" ></th>    </tr></thead><tbody>\n",
       "                <tr>\n",
       "                        <th id=\"T_c1d9d3f4_2e86_11ea_9408_00249b2ccecalevel0_row0\" class=\"row_heading level0 row0\" >Idastidru52</th>\n",
       "                        <td id=\"T_c1d9d3f4_2e86_11ea_9408_00249b2ccecarow0_col0\" class=\"data row0 col0\" >4</td>\n",
       "                        <td id=\"T_c1d9d3f4_2e86_11ea_9408_00249b2ccecarow0_col1\" class=\"data row0 col1\" >$3.86</td>\n",
       "                        <td id=\"T_c1d9d3f4_2e86_11ea_9408_00249b2ccecarow0_col2\" class=\"data row0 col2\" >$15.45</td>\n",
       "            </tr>\n",
       "            <tr>\n",
       "                        <th id=\"T_c1d9d3f4_2e86_11ea_9408_00249b2ccecalevel0_row1\" class=\"row_heading level0 row1\" >Inguron55</th>\n",
       "                        <td id=\"T_c1d9d3f4_2e86_11ea_9408_00249b2ccecarow1_col0\" class=\"data row1 col0\" >3</td>\n",
       "                        <td id=\"T_c1d9d3f4_2e86_11ea_9408_00249b2ccecarow1_col1\" class=\"data row1 col1\" >$3.70</td>\n",
       "                        <td id=\"T_c1d9d3f4_2e86_11ea_9408_00249b2ccecarow1_col2\" class=\"data row1 col2\" >$11.11</td>\n",
       "            </tr>\n",
       "            <tr>\n",
       "                        <th id=\"T_c1d9d3f4_2e86_11ea_9408_00249b2ccecalevel0_row2\" class=\"row_heading level0 row2\" >Iral74</th>\n",
       "                        <td id=\"T_c1d9d3f4_2e86_11ea_9408_00249b2ccecarow2_col0\" class=\"data row2 col0\" >4</td>\n",
       "                        <td id=\"T_c1d9d3f4_2e86_11ea_9408_00249b2ccecarow2_col1\" class=\"data row2 col1\" >$3.40</td>\n",
       "                        <td id=\"T_c1d9d3f4_2e86_11ea_9408_00249b2ccecarow2_col2\" class=\"data row2 col2\" >$13.62</td>\n",
       "            </tr>\n",
       "            <tr>\n",
       "                        <th id=\"T_c1d9d3f4_2e86_11ea_9408_00249b2ccecalevel0_row3\" class=\"row_heading level0 row3\" >Iri67</th>\n",
       "                        <td id=\"T_c1d9d3f4_2e86_11ea_9408_00249b2ccecarow3_col0\" class=\"data row3 col0\" >3</td>\n",
       "                        <td id=\"T_c1d9d3f4_2e86_11ea_9408_00249b2ccecarow3_col1\" class=\"data row3 col1\" >$3.79</td>\n",
       "                        <td id=\"T_c1d9d3f4_2e86_11ea_9408_00249b2ccecarow3_col2\" class=\"data row3 col2\" >$11.37</td>\n",
       "            </tr>\n",
       "            <tr>\n",
       "                        <th id=\"T_c1d9d3f4_2e86_11ea_9408_00249b2ccecalevel0_row4\" class=\"row_heading level0 row4\" >Lisosia93</th>\n",
       "                        <td id=\"T_c1d9d3f4_2e86_11ea_9408_00249b2ccecarow4_col0\" class=\"data row4 col0\" >5</td>\n",
       "                        <td id=\"T_c1d9d3f4_2e86_11ea_9408_00249b2ccecarow4_col1\" class=\"data row4 col1\" >$3.79</td>\n",
       "                        <td id=\"T_c1d9d3f4_2e86_11ea_9408_00249b2ccecarow4_col2\" class=\"data row4 col2\" >$18.96</td>\n",
       "            </tr>\n",
       "    </tbody></table>"
      ],
      "text/plain": [
       "<pandas.io.formats.style.Styler at 0x1164ce950>"
      ]
     },
     "execution_count": 17,
     "metadata": {},
     "output_type": "execute_result"
    }
   ],
   "source": [
    "#Get the unique SN counts and make a dataframe\n",
    "purchasebysn_groupby = purchase_data.groupby(\"SN\")['Price'].nunique()\n",
    "\n",
    "purchasebysn_df = purchasebysn_groupby.reset_index(name='Unique Values')\n",
    "purchasebysn_df = purchasebysn_df.sort_values('Unique Values',ascending = False).head(5)\n",
    "\n",
    "#Create a merge dataframe\n",
    "purchasebysn_merge = pd.merge(purchasebysn_df, purchase_data, on=\"SN\")\n",
    "\n",
    "#Using the above merge group it again by SN and get the count, mean and sum\n",
    "sn_groupby = purchasebysn_merge.groupby([\"SN\"])\n",
    "\n",
    "purchasebysn_groupby_count = sn_groupby['Price'].count()\n",
    "purchasebysn_groupby_price = round(sn_groupby['Price'].mean(), 2)\n",
    "purchasebysn_groupby_total = sn_groupby['Price'].sum()\n",
    "\n",
    "#Create a merge dataframe\n",
    "sn_merge = pd.merge(purchasebysn_groupby_count, purchasebysn_groupby_price, on=\"SN\")\n",
    "sn_merge = pd.merge(sn_merge, purchasebysn_groupby_total, on=\"SN\")\n",
    "\n",
    "#Format the dataframe according to the requirements and display\n",
    "sn_merge = sn_merge.rename(columns={\"Price_x\":\"Purchase Count\",\n",
    "                                    \"Price_y\":\"Average Purchase Price\", \n",
    "                                    \"Price\":\"Total Purchase Value\"})\n",
    "sn_merge = sn_merge.style.format({'Average Purchase Price':'${:.2f}',\n",
    "                                  'Total Purchase Value':'${:.2f}'})\n",
    "sn_merge"
   ]
  },
  {
   "cell_type": "markdown",
   "metadata": {},
   "source": [
    "## Most Popular Items"
   ]
  },
  {
   "cell_type": "markdown",
   "metadata": {},
   "source": [
    "* Retrieve the Item ID, Item Name, and Item Price columns\n",
    "\n",
    "\n",
    "* Group by Item ID and Item Name. Perform calculations to obtain purchase count, item price, and total purchase value\n",
    "\n",
    "\n",
    "* Create a summary data frame to hold the results\n",
    "\n",
    "\n",
    "* Sort the purchase count column in descending order\n",
    "\n",
    "\n",
    "* Optional: give the displayed data cleaner formatting\n",
    "\n",
    "\n",
    "* Display a preview of the summary data frame\n",
    "\n"
   ]
  },
  {
   "cell_type": "code",
   "execution_count": 27,
   "metadata": {},
   "outputs": [
    {
     "data": {
      "text/html": [
       "<div>\n",
       "<style scoped>\n",
       "    .dataframe tbody tr th:only-of-type {\n",
       "        vertical-align: middle;\n",
       "    }\n",
       "\n",
       "    .dataframe tbody tr th {\n",
       "        vertical-align: top;\n",
       "    }\n",
       "\n",
       "    .dataframe thead th {\n",
       "        text-align: right;\n",
       "    }\n",
       "</style>\n",
       "<table border=\"1\" class=\"dataframe\">\n",
       "  <thead>\n",
       "    <tr style=\"text-align: right;\">\n",
       "      <th></th>\n",
       "      <th></th>\n",
       "      <th>Purchase Count</th>\n",
       "      <th>Item Price</th>\n",
       "      <th>Total Purchase Value</th>\n",
       "    </tr>\n",
       "    <tr>\n",
       "      <th>Item ID</th>\n",
       "      <th>Item Name</th>\n",
       "      <th></th>\n",
       "      <th></th>\n",
       "      <th></th>\n",
       "    </tr>\n",
       "  </thead>\n",
       "  <tbody>\n",
       "    <tr>\n",
       "      <th>0</th>\n",
       "      <th>Splinter</th>\n",
       "      <td>4</td>\n",
       "      <td>1.28</td>\n",
       "      <td>5.12</td>\n",
       "    </tr>\n",
       "    <tr>\n",
       "      <th>1</th>\n",
       "      <th>Crucifer</th>\n",
       "      <td>3</td>\n",
       "      <td>3.26</td>\n",
       "      <td>9.78</td>\n",
       "    </tr>\n",
       "    <tr>\n",
       "      <th>2</th>\n",
       "      <th>Verdict</th>\n",
       "      <td>6</td>\n",
       "      <td>2.48</td>\n",
       "      <td>14.88</td>\n",
       "    </tr>\n",
       "    <tr>\n",
       "      <th>3</th>\n",
       "      <th>Phantomlight</th>\n",
       "      <td>6</td>\n",
       "      <td>2.49</td>\n",
       "      <td>14.94</td>\n",
       "    </tr>\n",
       "    <tr>\n",
       "      <th>4</th>\n",
       "      <th>Bloodlord's Fetish</th>\n",
       "      <td>5</td>\n",
       "      <td>1.70</td>\n",
       "      <td>8.50</td>\n",
       "    </tr>\n",
       "  </tbody>\n",
       "</table>\n",
       "</div>"
      ],
      "text/plain": [
       "                            Purchase Count  Item Price  Total Purchase Value\n",
       "Item ID Item Name                                                           \n",
       "0       Splinter                         4        1.28                  5.12\n",
       "1       Crucifer                         3        3.26                  9.78\n",
       "2       Verdict                          6        2.48                 14.88\n",
       "3       Phantomlight                     6        2.49                 14.94\n",
       "4       Bloodlord's Fetish               5        1.70                  8.50"
      ]
     },
     "execution_count": 27,
     "metadata": {},
     "output_type": "execute_result"
    }
   ],
   "source": [
    "#Create a new dataframe with the required fields\n",
    "popularitem_df = purchase_data[[\"Item ID\",\"Item Name\",\"Price\"]]\n",
    "\n",
    "#Get the group by and get the sum, mean, & count values \n",
    "popularitem_groupby = popularitem_df.groupby([\"Item ID\",\"Item Name\"])\n",
    "\n",
    "popularitem_groupby_count = popularitem_groupby.count()\n",
    "purchasebysn_groupby_price = round(popularitem_groupby.mean(), 2)\n",
    "purchasebysn_groupby_total = popularitem_groupby.sum()\n",
    "\n",
    "#Merge the claculations made above based on item id and item name\n",
    "item_merge = pd.merge(popularitem_groupby_count, purchasebysn_groupby_price, on=[\"Item ID\",\"Item Name\"])\n",
    "item_merge = pd.merge(item_merge, purchasebysn_groupby_total, on=[\"Item ID\",\"Item Name\"])\n",
    "\n",
    "#Rename fields and display the head\n",
    "item_merge = item_merge.rename(columns={\"Price_x\":\"Purchase Count\",\n",
    "                                    \"Price_y\":\"Item Price\", \n",
    "                                    \"Price\":\"Total Purchase Value\"})\n",
    "item_merge.head()"
   ]
  },
  {
   "cell_type": "markdown",
   "metadata": {},
   "source": [
    "## Most Profitable Items"
   ]
  },
  {
   "cell_type": "markdown",
   "metadata": {},
   "source": [
    "* Sort the above table by total purchase value in descending order\n",
    "\n",
    "\n",
    "* Optional: give the displayed data cleaner formatting\n",
    "\n",
    "\n",
    "* Display a preview of the data frame\n",
    "\n"
   ]
  },
  {
   "cell_type": "code",
   "execution_count": 28,
   "metadata": {
    "scrolled": true
   },
   "outputs": [
    {
     "data": {
      "text/html": [
       "<style  type=\"text/css\" >\n",
       "</style><table id=\"T_4315a3de_2e88_11ea_9408_00249b2cceca\" ><thead>    <tr>        <th class=\"blank\" ></th>        <th class=\"blank level0\" ></th>        <th class=\"col_heading level0 col0\" >Purchase Count</th>        <th class=\"col_heading level0 col1\" >Item Price</th>        <th class=\"col_heading level0 col2\" >Total Purchase Value</th>    </tr>    <tr>        <th class=\"index_name level0\" >Item ID</th>        <th class=\"index_name level1\" >Item Name</th>        <th class=\"blank\" ></th>        <th class=\"blank\" ></th>        <th class=\"blank\" ></th>    </tr></thead><tbody>\n",
       "                <tr>\n",
       "                        <th id=\"T_4315a3de_2e88_11ea_9408_00249b2ccecalevel0_row0\" class=\"row_heading level0 row0\" >178</th>\n",
       "                        <th id=\"T_4315a3de_2e88_11ea_9408_00249b2ccecalevel1_row0\" class=\"row_heading level1 row0\" >Oathbreaker, Last Hope of the Breaking Storm</th>\n",
       "                        <td id=\"T_4315a3de_2e88_11ea_9408_00249b2ccecarow0_col0\" class=\"data row0 col0\" >12</td>\n",
       "                        <td id=\"T_4315a3de_2e88_11ea_9408_00249b2ccecarow0_col1\" class=\"data row0 col1\" >$4.23</td>\n",
       "                        <td id=\"T_4315a3de_2e88_11ea_9408_00249b2ccecarow0_col2\" class=\"data row0 col2\" >$50.76</td>\n",
       "            </tr>\n",
       "            <tr>\n",
       "                        <th id=\"T_4315a3de_2e88_11ea_9408_00249b2ccecalevel0_row1\" class=\"row_heading level0 row1\" >145</th>\n",
       "                        <th id=\"T_4315a3de_2e88_11ea_9408_00249b2ccecalevel1_row1\" class=\"row_heading level1 row1\" >Fiery Glass Crusader</th>\n",
       "                        <td id=\"T_4315a3de_2e88_11ea_9408_00249b2ccecarow1_col0\" class=\"data row1 col0\" >9</td>\n",
       "                        <td id=\"T_4315a3de_2e88_11ea_9408_00249b2ccecarow1_col1\" class=\"data row1 col1\" >$4.58</td>\n",
       "                        <td id=\"T_4315a3de_2e88_11ea_9408_00249b2ccecarow1_col2\" class=\"data row1 col2\" >$41.22</td>\n",
       "            </tr>\n",
       "            <tr>\n",
       "                        <th id=\"T_4315a3de_2e88_11ea_9408_00249b2ccecalevel0_row2\" class=\"row_heading level0 row2\" >108</th>\n",
       "                        <th id=\"T_4315a3de_2e88_11ea_9408_00249b2ccecalevel1_row2\" class=\"row_heading level1 row2\" >Extraction, Quickblade Of Trembling Hands</th>\n",
       "                        <td id=\"T_4315a3de_2e88_11ea_9408_00249b2ccecarow2_col0\" class=\"data row2 col0\" >9</td>\n",
       "                        <td id=\"T_4315a3de_2e88_11ea_9408_00249b2ccecarow2_col1\" class=\"data row2 col1\" >$3.53</td>\n",
       "                        <td id=\"T_4315a3de_2e88_11ea_9408_00249b2ccecarow2_col2\" class=\"data row2 col2\" >$31.77</td>\n",
       "            </tr>\n",
       "            <tr>\n",
       "                        <th id=\"T_4315a3de_2e88_11ea_9408_00249b2ccecalevel0_row3\" class=\"row_heading level0 row3\" >82</th>\n",
       "                        <th id=\"T_4315a3de_2e88_11ea_9408_00249b2ccecalevel1_row3\" class=\"row_heading level1 row3\" >Nirvana</th>\n",
       "                        <td id=\"T_4315a3de_2e88_11ea_9408_00249b2ccecarow3_col0\" class=\"data row3 col0\" >9</td>\n",
       "                        <td id=\"T_4315a3de_2e88_11ea_9408_00249b2ccecarow3_col1\" class=\"data row3 col1\" >$4.90</td>\n",
       "                        <td id=\"T_4315a3de_2e88_11ea_9408_00249b2ccecarow3_col2\" class=\"data row3 col2\" >$44.10</td>\n",
       "            </tr>\n",
       "            <tr>\n",
       "                        <th id=\"T_4315a3de_2e88_11ea_9408_00249b2ccecalevel0_row4\" class=\"row_heading level0 row4\" >19</th>\n",
       "                        <th id=\"T_4315a3de_2e88_11ea_9408_00249b2ccecalevel1_row4\" class=\"row_heading level1 row4\" >Pursuit, Cudgel of Necromancy</th>\n",
       "                        <td id=\"T_4315a3de_2e88_11ea_9408_00249b2ccecarow4_col0\" class=\"data row4 col0\" >8</td>\n",
       "                        <td id=\"T_4315a3de_2e88_11ea_9408_00249b2ccecarow4_col1\" class=\"data row4 col1\" >$1.02</td>\n",
       "                        <td id=\"T_4315a3de_2e88_11ea_9408_00249b2ccecarow4_col2\" class=\"data row4 col2\" >$8.16</td>\n",
       "            </tr>\n",
       "    </tbody></table>"
      ],
      "text/plain": [
       "<pandas.io.formats.style.Styler at 0x11661b0d0>"
      ]
     },
     "execution_count": 28,
     "metadata": {},
     "output_type": "execute_result"
    }
   ],
   "source": [
    "#Formatting, sorting and displaying the top 5 sellers\n",
    "item_merge = item_merge.sort_values('Purchase Count',ascending = False).head(5)\n",
    "item_merge = item_merge.style.format({'Item Price':'${:.2f}',\n",
    "                                      'Total Purchase Value':'${:.2f}'\n",
    "                                      })\n",
    "\n",
    "item_merge"
   ]
  },
  {
   "cell_type": "code",
   "execution_count": null,
   "metadata": {},
   "outputs": [],
   "source": []
  }
 ],
 "metadata": {
  "anaconda-cloud": {},
  "kernel_info": {
   "name": "python3"
  },
  "kernelspec": {
   "display_name": "Python 3",
   "language": "python",
   "name": "python3"
  },
  "language_info": {
   "codemirror_mode": {
    "name": "ipython",
    "version": 3
   },
   "file_extension": ".py",
   "mimetype": "text/x-python",
   "name": "python",
   "nbconvert_exporter": "python",
   "pygments_lexer": "ipython3",
   "version": "3.7.5"
  },
  "latex_envs": {
   "LaTeX_envs_menu_present": true,
   "autoclose": false,
   "autocomplete": true,
   "bibliofile": "biblio.bib",
   "cite_by": "apalike",
   "current_citInitial": 1,
   "eqLabelWithNumbers": true,
   "eqNumInitial": 1,
   "hotkeys": {
    "equation": "Ctrl-E",
    "itemize": "Ctrl-I"
   },
   "labels_anchors": false,
   "latex_user_defs": false,
   "report_style_numbering": false,
   "user_envs_cfg": false
  },
  "nteract": {
   "version": "0.2.0"
  }
 },
 "nbformat": 4,
 "nbformat_minor": 2
}
